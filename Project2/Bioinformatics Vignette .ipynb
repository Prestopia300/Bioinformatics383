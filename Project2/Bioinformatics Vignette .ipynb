{
 "cells": [
  {
   "cell_type": "markdown",
   "metadata": {},
   "source": [
    "## About me: \n",
    "Hi, my name is Preston Parsons. I am a current CSSE student taking BIO 383. I was interested in this class due to past experience with science classes, as well as the data processing aspect. In my free time, I like to read. I also work on personal coding projects that interest me. \n"
   ]
  },
  {
   "cell_type": "markdown",
   "metadata": {},
   "source": [
    "## Background: \n",
    "The problem I am trying to solve is to find the percentage of similarity between 2 or more genome sequences. The genomes in question are Monarch butterfly genomes that I compiled during Project 2. During my research, I found a paper that analyzed monarch butterflies, and was kind enough to provide links to the data in their resources (Pfeiler, 2017). The target gene in which I will be comparing between the different butterflies CIO gene from monarch butterflies that live in Canada and Mexico. There are 7 genomes in total."
   ]
  },
  {
   "cell_type": "markdown",
   "metadata": {},
   "source": [
    "## How you applied the technique:\n",
    "To solve this problem, I read and used code from our homework, “Analyzing Biological Sequences using For Loops and If statements” (Zaneveld, 2021). The code in question takes 2 genomes and compares each nucleotide and returns the percentage of similarity. I then adapted this to compute the similarity of all 7 genomes. \n",
    "The code is from an early homework assignment, but it contains for and if statements that are used to deduce the similarity between 2 sequences. There is no official name for this, partially due to its simplicity. The code uses basic python best practices for coding, and uses the same in the adaption of this code. I added code to process and compare each sequence. I used this code for Project 2 of this class, which takes in sequences of a monarch butterflies COI gene from Canada and Mexico.\n"
   ]
  },
  {
   "cell_type": "markdown",
   "metadata": {},
   "source": [
    "# The code:"
   ]
  },
  {
   "cell_type": "code",
   "execution_count": 1,
   "metadata": {},
   "outputs": [
    {
     "name": "stdout",
     "output_type": "stream",
     "text": [
      "There were 549 shared nucleotides and 0 different nucleotides among the sequences\n",
      "Sequence identity: 1.0\n",
      "There were 548 shared nucleotides and 1 different nucleotides among the sequences\n",
      "Sequence identity: 1.0\n",
      "There were 545 shared nucleotides and 4 different nucleotides among the sequences\n",
      "Sequence identity: 0.99\n",
      "There were 548 shared nucleotides and 1 different nucleotides among the sequences\n",
      "Sequence identity: 1.0\n",
      "There were 549 shared nucleotides and 0 different nucleotides among the sequences\n",
      "Sequence identity: 1.0\n",
      "There were 547 shared nucleotides and 2 different nucleotides among the sequences\n",
      "Sequence identity: 1.0\n",
      "There were 548 shared nucleotides and 1 different nucleotides among the sequences\n",
      "Sequence identity: 1.0\n"
     ]
    }
   ],
   "source": [
    "def read_fasta(filename):\n",
    "    # Read in Lines\n",
    "    f = open(filename, \"r\")\n",
    "    Lines = f.readlines()\n",
    "    seqs = [\"\"]\n",
    "    i = -1\n",
    "    for line in Lines:\n",
    "        if len(line) < 10:\n",
    "            continue\n",
    "        if \">\" in line:\n",
    "            i += 1\n",
    "            seqs.append(\"\")\n",
    "            continue\n",
    "        else:\n",
    "            line = line.strip('\\n')\n",
    "            line = line.strip(' ')\n",
    "            seqs[i] += line\n",
    "    \n",
    "    # Make Same Length\n",
    "    min_len = 999999999\n",
    "    min_index = 0\n",
    "    for j in range(0, len(seqs)):            \n",
    "        if (len(seqs[j]) < min_len and len(seqs[j]) != 0): \n",
    "            min_len = len(seqs[j])\n",
    "            min_index = j\n",
    "    for j in range(0, len(seqs)):\n",
    "        s = seqs[j]\n",
    "        if (len(seqs[j]) < 10): \n",
    "            del seqs[j]\n",
    "            break\n",
    "        seqs[j] = s[0:len(seqs[min_index])] # make len of shortest\n",
    "        # print(j, \" \", len(seqs[j]),\"\\n\", seqs[j], \"\\n\")\n",
    "        \n",
    "    return len(seqs[min_index]), seqs\n",
    "\n",
    "def main():\n",
    "    filename = \"files/fancyname.txt\"\n",
    "    length_of_shorter_seq, seqs = read_fasta(filename)\n",
    "\n",
    "    shared = 0\n",
    "    different = 0    \n",
    "\n",
    "    for j in range(1, len(seqs)):\n",
    "        for i in range(length_of_shorter_seq):\n",
    "            if seqs[0][i] == seqs[j][i]:\n",
    "                shared += 1\n",
    "            else:\n",
    "                different +=1\n",
    "\n",
    "        sequence_identity = shared/length_of_shorter_seq\n",
    "        print(f\"There were {shared} shared nucleotides and {different} different nucleotides among the sequences\")\n",
    "        print(f\"Sequence identity: {round(sequence_identity,2)}\")    \n",
    "        sequence_identity = shared = different = 0\n",
    "\n",
    "\n",
    "main()"
   ]
  },
  {
   "cell_type": "markdown",
   "metadata": {},
   "source": [
    "## Results\n",
    "As expected the butterflies are nearly identical, which is the same as the paper's conclusion. Another happy landing.\n"
   ]
  },
  {
   "cell_type": "markdown",
   "metadata": {},
   "source": [
    "## Further reading:\n",
    "All these can be found below in the references section. \n",
    "- My code\n",
    "- The paper cited as inspiration\n",
    "- The homework assignment created by Professors Zaneveld\n"
   ]
  },
  {
   "cell_type": "markdown",
   "metadata": {},
   "source": [
    "## References:\n",
    "\n",
    "Parsons, P. (2022, June 6). GitHub - Prestopia300/Bioinformatics383: Code written for Bio 383. GitHub. https://github.com/Prestopia300/Bioinformatics383\n",
    "\n",
    "Pfeiler, E. et al. “Population Genetics of Overwintering Monarch Butterflies, Danaus plexippus (Linnaeus), from Central Mexico Inferred from Mitochondrial DNA and Microsatellite Markers.” The Journal of heredity vol. 108,2 (2017): 163-175. doi:10.1093/jhered/esw071 https://www.ncbi.nlm.nih.gov/pmc/articles/PMC5434545/ \n",
    "    \n",
    "Zaneveld, Z. (2021, March 29). full_spectrum_bioinformatics/using_for_loops_to_analyze_biological_sequences.ipynb at master · zaneveld/full_spectrum_bioinformatics. GitHub. https://github.com/zaneveld/full_spectrum_bioinformatics/blob/master/content/06_biological_sequences/using_for_loops_to_analyze_biological_sequences.ipynb\n"
   ]
  }
 ],
 "metadata": {
  "kernelspec": {
   "display_name": "Python 3",
   "language": "python",
   "name": "python3"
  },
  "language_info": {
   "codemirror_mode": {
    "name": "ipython",
    "version": 3
   },
   "file_extension": ".py",
   "mimetype": "text/x-python",
   "name": "python",
   "nbconvert_exporter": "python",
   "pygments_lexer": "ipython3",
   "version": "3.8.5"
  }
 },
 "nbformat": 4,
 "nbformat_minor": 4
}
